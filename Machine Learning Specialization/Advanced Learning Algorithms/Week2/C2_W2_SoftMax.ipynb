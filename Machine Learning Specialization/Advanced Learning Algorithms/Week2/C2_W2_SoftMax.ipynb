{
 "cells": [
  {
   "cell_type": "markdown",
   "id": "5d92d6d6",
   "metadata": {},
   "source": [
    "# Optional Lab - Softmax Function\n",
    "In this lab, we will explore the softmax function. This function is used in both Softmax Regression and in Neural Networks when solving Multiclass Classification problems.  \n",
    "\n",
    "<center>  <img  src=\"./images/C2_W2_Softmax_Header.PNG\" width=\"600\" />  <center/>\n",
    "\n",
    "  "
   ]
  },
  {
   "cell_type": "code",
   "execution_count": 4,
   "id": "ae4c30db",
   "metadata": {},
   "outputs": [
    {
     "name": "stdout",
     "output_type": "stream",
     "text": [
      "Requirement already satisfied: ipympl in c:\\users\\naz\\anaconda3\\lib\\site-packages (0.9.2)\n",
      "Requirement already satisfied: pillow in c:\\users\\naz\\anaconda3\\lib\\site-packages (from ipympl) (8.4.0)\n",
      "Requirement already satisfied: matplotlib<4,>=3.4.0 in c:\\users\\naz\\anaconda3\\lib\\site-packages (from ipympl) (3.4.3)\n",
      "Requirement already satisfied: traitlets<6 in c:\\users\\naz\\anaconda3\\lib\\site-packages (from ipympl) (5.1.0)\n",
      "Requirement already satisfied: ipython<9 in c:\\users\\naz\\anaconda3\\lib\\site-packages (from ipympl) (7.29.0)\n",
      "Requirement already satisfied: numpy in c:\\users\\naz\\anaconda3\\lib\\site-packages (from ipympl) (1.20.3)\n",
      "Requirement already satisfied: ipywidgets<9,>=7.6.0 in c:\\users\\naz\\anaconda3\\lib\\site-packages (from ipympl) (7.6.5)\n",
      "Requirement already satisfied: ipython-genutils in c:\\users\\naz\\anaconda3\\lib\\site-packages (from ipympl) (0.2.0)\n",
      "Requirement already satisfied: pickleshare in c:\\users\\naz\\anaconda3\\lib\\site-packages (from ipython<9->ipympl) (0.7.5)\n",
      "Requirement already satisfied: colorama in c:\\users\\naz\\anaconda3\\lib\\site-packages (from ipython<9->ipympl) (0.4.4)\n",
      "Requirement already satisfied: decorator in c:\\users\\naz\\anaconda3\\lib\\site-packages (from ipython<9->ipympl) (5.1.0)\n",
      "Requirement already satisfied: jedi>=0.16 in c:\\users\\naz\\anaconda3\\lib\\site-packages (from ipython<9->ipympl) (0.18.0)\n",
      "Requirement already satisfied: backcall in c:\\users\\naz\\anaconda3\\lib\\site-packages (from ipython<9->ipympl) (0.2.0)\n",
      "Requirement already satisfied: matplotlib-inline in c:\\users\\naz\\anaconda3\\lib\\site-packages (from ipython<9->ipympl) (0.1.2)\n",
      "Requirement already satisfied: pygments in c:\\users\\naz\\anaconda3\\lib\\site-packages (from ipython<9->ipympl) (2.10.0)\n",
      "Requirement already satisfied: prompt-toolkit!=3.0.0,!=3.0.1,<3.1.0,>=2.0.0 in c:\\users\\naz\\anaconda3\\lib\\site-packages (from ipython<9->ipympl) (3.0.20)\n",
      "Requirement already satisfied: setuptools>=18.5 in c:\\users\\naz\\anaconda3\\lib\\site-packages (from ipython<9->ipympl) (58.0.4)\n",
      "Requirement already satisfied: jupyterlab-widgets>=1.0.0 in c:\\users\\naz\\anaconda3\\lib\\site-packages (from ipywidgets<9,>=7.6.0->ipympl) (1.0.0)\n",
      "Requirement already satisfied: nbformat>=4.2.0 in c:\\users\\naz\\anaconda3\\lib\\site-packages (from ipywidgets<9,>=7.6.0->ipympl) (5.1.3)\n",
      "Requirement already satisfied: widgetsnbextension~=3.5.0 in c:\\users\\naz\\anaconda3\\lib\\site-packages (from ipywidgets<9,>=7.6.0->ipympl) (3.5.1)\n",
      "Requirement already satisfied: ipykernel>=4.5.1 in c:\\users\\naz\\anaconda3\\lib\\site-packages (from ipywidgets<9,>=7.6.0->ipympl) (6.4.1)\n",
      "Requirement already satisfied: python-dateutil>=2.7 in c:\\users\\naz\\anaconda3\\lib\\site-packages (from matplotlib<4,>=3.4.0->ipympl) (2.8.2)\n",
      "Requirement already satisfied: cycler>=0.10 in c:\\users\\naz\\anaconda3\\lib\\site-packages (from matplotlib<4,>=3.4.0->ipympl) (0.10.0)\n",
      "Requirement already satisfied: pyparsing>=2.2.1 in c:\\users\\naz\\anaconda3\\lib\\site-packages (from matplotlib<4,>=3.4.0->ipympl) (3.0.4)\n",
      "Requirement already satisfied: kiwisolver>=1.0.1 in c:\\users\\naz\\anaconda3\\lib\\site-packages (from matplotlib<4,>=3.4.0->ipympl) (1.3.1)\n",
      "Requirement already satisfied: six in c:\\users\\naz\\anaconda3\\lib\\site-packages (from cycler>=0.10->matplotlib<4,>=3.4.0->ipympl) (1.16.0)\n",
      "Requirement already satisfied: debugpy<2.0,>=1.0.0 in c:\\users\\naz\\anaconda3\\lib\\site-packages (from ipykernel>=4.5.1->ipywidgets<9,>=7.6.0->ipympl) (1.4.1)\n",
      "Requirement already satisfied: tornado<7.0,>=4.2 in c:\\users\\naz\\anaconda3\\lib\\site-packages (from ipykernel>=4.5.1->ipywidgets<9,>=7.6.0->ipympl) (6.1)\n",
      "Requirement already satisfied: jupyter-client<8.0 in c:\\users\\naz\\anaconda3\\lib\\site-packages (from ipykernel>=4.5.1->ipywidgets<9,>=7.6.0->ipympl) (6.1.12)\n",
      "Requirement already satisfied: parso<0.9.0,>=0.8.0 in c:\\users\\naz\\anaconda3\\lib\\site-packages (from jedi>=0.16->ipython<9->ipympl) (0.8.2)\n",
      "Requirement already satisfied: jsonschema!=2.5.0,>=2.4 in c:\\users\\naz\\anaconda3\\lib\\site-packages (from nbformat>=4.2.0->ipywidgets<9,>=7.6.0->ipympl) (3.2.0)\n",
      "Requirement already satisfied: jupyter-core in c:\\users\\naz\\anaconda3\\lib\\site-packages (from nbformat>=4.2.0->ipywidgets<9,>=7.6.0->ipympl) (4.8.1)\n",
      "Requirement already satisfied: wcwidth in c:\\users\\naz\\anaconda3\\lib\\site-packages (from prompt-toolkit!=3.0.0,!=3.0.1,<3.1.0,>=2.0.0->ipython<9->ipympl) (0.2.5)\n",
      "Requirement already satisfied: notebook>=4.4.1 in c:\\users\\naz\\anaconda3\\lib\\site-packages (from widgetsnbextension~=3.5.0->ipywidgets<9,>=7.6.0->ipympl) (6.4.5)\n",
      "Requirement already satisfied: attrs>=17.4.0 in c:\\users\\naz\\anaconda3\\lib\\site-packages (from jsonschema!=2.5.0,>=2.4->nbformat>=4.2.0->ipywidgets<9,>=7.6.0->ipympl) (21.2.0)\n",
      "Requirement already satisfied: pyrsistent>=0.14.0 in c:\\users\\naz\\anaconda3\\lib\\site-packages (from jsonschema!=2.5.0,>=2.4->nbformat>=4.2.0->ipywidgets<9,>=7.6.0->ipympl) (0.18.0)\n",
      "Requirement already satisfied: pyzmq>=13 in c:\\users\\naz\\anaconda3\\lib\\site-packages (from jupyter-client<8.0->ipykernel>=4.5.1->ipywidgets<9,>=7.6.0->ipympl) (22.2.1)\n",
      "Requirement already satisfied: pywin32>=1.0 in c:\\users\\naz\\anaconda3\\lib\\site-packages (from jupyter-core->nbformat>=4.2.0->ipywidgets<9,>=7.6.0->ipympl) (228)\n",
      "Requirement already satisfied: nbconvert in c:\\users\\naz\\anaconda3\\lib\\site-packages (from notebook>=4.4.1->widgetsnbextension~=3.5.0->ipywidgets<9,>=7.6.0->ipympl) (6.1.0)\n",
      "Requirement already satisfied: argon2-cffi in c:\\users\\naz\\anaconda3\\lib\\site-packages (from notebook>=4.4.1->widgetsnbextension~=3.5.0->ipywidgets<9,>=7.6.0->ipympl) (20.1.0)\n",
      "Requirement already satisfied: prometheus-client in c:\\users\\naz\\anaconda3\\lib\\site-packages (from notebook>=4.4.1->widgetsnbextension~=3.5.0->ipywidgets<9,>=7.6.0->ipympl) (0.11.0)\n",
      "Requirement already satisfied: Send2Trash>=1.5.0 in c:\\users\\naz\\anaconda3\\lib\\site-packages (from notebook>=4.4.1->widgetsnbextension~=3.5.0->ipywidgets<9,>=7.6.0->ipympl) (1.8.0)\n",
      "Requirement already satisfied: jinja2 in c:\\users\\naz\\anaconda3\\lib\\site-packages (from notebook>=4.4.1->widgetsnbextension~=3.5.0->ipywidgets<9,>=7.6.0->ipympl) (2.11.3)\n",
      "Requirement already satisfied: terminado>=0.8.3 in c:\\users\\naz\\anaconda3\\lib\\site-packages (from notebook>=4.4.1->widgetsnbextension~=3.5.0->ipywidgets<9,>=7.6.0->ipympl) (0.9.4)\n",
      "Requirement already satisfied: pywinpty>=0.5 in c:\\users\\naz\\anaconda3\\lib\\site-packages (from terminado>=0.8.3->notebook>=4.4.1->widgetsnbextension~=3.5.0->ipywidgets<9,>=7.6.0->ipympl) (0.5.7)\n",
      "Requirement already satisfied: cffi>=1.0.0 in c:\\users\\naz\\anaconda3\\lib\\site-packages (from argon2-cffi->notebook>=4.4.1->widgetsnbextension~=3.5.0->ipywidgets<9,>=7.6.0->ipympl) (1.14.6)\n",
      "Requirement already satisfied: MarkupSafe>=0.23 in c:\\users\\naz\\anaconda3\\lib\\site-packages (from jinja2->notebook>=4.4.1->widgetsnbextension~=3.5.0->ipywidgets<9,>=7.6.0->ipympl) (1.1.1)\n",
      "Requirement already satisfied: jupyterlab-pygments in c:\\users\\naz\\anaconda3\\lib\\site-packages (from nbconvert->notebook>=4.4.1->widgetsnbextension~=3.5.0->ipywidgets<9,>=7.6.0->ipympl) (0.1.2)\n",
      "Requirement already satisfied: testpath in c:\\users\\naz\\anaconda3\\lib\\site-packages (from nbconvert->notebook>=4.4.1->widgetsnbextension~=3.5.0->ipywidgets<9,>=7.6.0->ipympl) (0.5.0)\n",
      "Requirement already satisfied: entrypoints>=0.2.2 in c:\\users\\naz\\anaconda3\\lib\\site-packages (from nbconvert->notebook>=4.4.1->widgetsnbextension~=3.5.0->ipywidgets<9,>=7.6.0->ipympl) (0.3)\n",
      "Requirement already satisfied: pandocfilters>=1.4.1 in c:\\users\\naz\\anaconda3\\lib\\site-packages (from nbconvert->notebook>=4.4.1->widgetsnbextension~=3.5.0->ipywidgets<9,>=7.6.0->ipympl) (1.4.3)\n",
      "Requirement already satisfied: nbclient<0.6.0,>=0.5.0 in c:\\users\\naz\\anaconda3\\lib\\site-packages (from nbconvert->notebook>=4.4.1->widgetsnbextension~=3.5.0->ipywidgets<9,>=7.6.0->ipympl) (0.5.3)\n",
      "Requirement already satisfied: defusedxml in c:\\users\\naz\\anaconda3\\lib\\site-packages (from nbconvert->notebook>=4.4.1->widgetsnbextension~=3.5.0->ipywidgets<9,>=7.6.0->ipympl) (0.7.1)\n",
      "Requirement already satisfied: bleach in c:\\users\\naz\\anaconda3\\lib\\site-packages (from nbconvert->notebook>=4.4.1->widgetsnbextension~=3.5.0->ipywidgets<9,>=7.6.0->ipympl) (4.0.0)\n",
      "Requirement already satisfied: mistune<2,>=0.8.1 in c:\\users\\naz\\anaconda3\\lib\\site-packages (from nbconvert->notebook>=4.4.1->widgetsnbextension~=3.5.0->ipywidgets<9,>=7.6.0->ipympl) (0.8.4)\n",
      "Requirement already satisfied: pycparser in c:\\users\\naz\\anaconda3\\lib\\site-packages (from cffi>=1.0.0->argon2-cffi->notebook>=4.4.1->widgetsnbextension~=3.5.0->ipywidgets<9,>=7.6.0->ipympl) (2.20)\n",
      "Requirement already satisfied: nest-asyncio in c:\\users\\naz\\anaconda3\\lib\\site-packages (from nbclient<0.6.0,>=0.5.0->nbconvert->notebook>=4.4.1->widgetsnbextension~=3.5.0->ipywidgets<9,>=7.6.0->ipympl) (1.5.1)\n",
      "Requirement already satisfied: async-generator in c:\\users\\naz\\anaconda3\\lib\\site-packages (from nbclient<0.6.0,>=0.5.0->nbconvert->notebook>=4.4.1->widgetsnbextension~=3.5.0->ipywidgets<9,>=7.6.0->ipympl) (1.10)\n",
      "Requirement already satisfied: webencodings in c:\\users\\naz\\anaconda3\\lib\\site-packages (from bleach->nbconvert->notebook>=4.4.1->widgetsnbextension~=3.5.0->ipywidgets<9,>=7.6.0->ipympl) (0.5.1)\n",
      "Requirement already satisfied: packaging in c:\\users\\naz\\anaconda3\\lib\\site-packages (from bleach->nbconvert->notebook>=4.4.1->widgetsnbextension~=3.5.0->ipywidgets<9,>=7.6.0->ipympl) (21.0)\n",
      "Note: you may need to restart the kernel to use updated packages.\n"
     ]
    },
    {
     "name": "stderr",
     "output_type": "stream",
     "text": [
      "\n",
      "[notice] A new release of pip available: 22.2.1 -> 22.3.1\n",
      "[notice] To update, run: python.exe -m pip install --upgrade pip\n"
     ]
    }
   ],
   "source": [
    "pip install ipympl"
   ]
  },
  {
   "cell_type": "code",
   "execution_count": 9,
   "id": "70ee965f",
   "metadata": {},
   "outputs": [
    {
     "name": "stdout",
     "output_type": "stream",
     "text": [
      "Requirement already satisfied: pip in c:\\users\\naz\\anaconda3\\lib\\site-packages (22.2.1)\n",
      "Collecting pip\n",
      "  Downloading pip-22.3.1-py3-none-any.whl (2.1 MB)\n",
      "     ---------------------------------------- 2.1/2.1 MB 399.5 kB/s eta 0:00:00\n",
      "Installing collected packages: pip\n",
      "  Attempting uninstall: pip\n",
      "    Found existing installation: pip 22.2.1\n",
      "    Uninstalling pip-22.2.1:\n",
      "      Successfully uninstalled pip-22.2.1\n",
      "Successfully installed pip-22.3.1\n",
      "Note: you may need to restart the kernel to use updated packages.\n"
     ]
    }
   ],
   "source": [
    "pip install --upgrade pip"
   ]
  },
  {
   "cell_type": "code",
   "execution_count": 6,
   "id": "ccdb9e52",
   "metadata": {},
   "outputs": [],
   "source": [
    "\n",
    "import numpy as np\n",
    "import matplotlib.pyplot as plt\n",
    "plt.style.use('./deeplearning.mplstyle')\n",
    "import tensorflow as tf\n",
    "from tensorflow.keras.models import Sequential\n",
    "from tensorflow.keras.layers import Dense\n",
    "from IPython.display import display, Markdown, Latex\n",
    "from sklearn.datasets import make_blobs\n",
    "%matplotlib widget\n",
    "from matplotlib.widgets import Slider\n",
    "from lab_utils_common import dlc\n",
    "from lab_utils_softmax import plt_softmax\n",
    "import logging\n",
    "logging.getLogger(\"tensorflow\").setLevel(logging.ERROR)\n",
    "tf.autograph.set_verbosity(0)"
   ]
  },
  {
   "cell_type": "markdown",
   "id": "479209fc",
   "metadata": {},
   "source": [
    "## Softmax Function\n",
    "In both softmax regression and neural networks with Softmax outputs, N outputs are generated and one output is selected as the predicted category. In both cases a vector $\\mathbf{z}$ is generated by a linear function which is applied to a softmax function. The softmax function converts $\\mathbf{z}$  into a probability distribution as described below. After applying softmax, each output will be between 0 and 1 and the outputs will add to 1, so that they can be interpreted as probabilities. The larger inputs  will correspond to larger output probabilities.\n",
    "<center>  <img  src=\"./images/C2_W2_SoftmaxReg_NN.png\" width=\"600\" />  "
   ]
  },
  {
   "cell_type": "markdown",
   "id": "ce3c0db3",
   "metadata": {},
   "source": [
    "The softmax function can be written:\n",
    "$$a_j = \\frac{e^{z_j}}{ \\sum_{k=1}^{N}{e^{z_k} }} \\tag{1}$$\n",
    "The output $\\mathbf{a}$ is a vector of length N, so for softmax regression, you could also write:\n",
    "\\begin{align}\n",
    "\\mathbf{a}(x) =\n",
    "\\begin{bmatrix}\n",
    "P(y = 1 | \\mathbf{x}; \\mathbf{w},b) \\\\\n",
    "\\vdots \\\\\n",
    "P(y = N | \\mathbf{x}; \\mathbf{w},b)\n",
    "\\end{bmatrix}\n",
    "=\n",
    "\\frac{1}{ \\sum_{k=1}^{N}{e^{z_k} }}\n",
    "\\begin{bmatrix}\n",
    "e^{z_1} \\\\\n",
    "\\vdots \\\\\n",
    "e^{z_{N}} \\\\\n",
    "\\end{bmatrix} \\tag{2}\n",
    "\\end{align}\n"
   ]
  },
  {
   "cell_type": "code",
   "execution_count": 7,
   "id": "9b0a90e3",
   "metadata": {},
   "outputs": [],
   "source": [
    "def my_softmax(z):\n",
    "    ez = np.exp(z)              #element-wise exponenial\n",
    "    sm = ez/np.sum(ez)\n",
    "    return(sm)"
   ]
  },
  {
   "cell_type": "code",
   "execution_count": 8,
   "id": "50b92523",
   "metadata": {},
   "outputs": [
    {
     "data": {
      "application/vnd.jupyter.widget-view+json": {
       "model_id": "5c4c904d588d4d9fa1f9f6fe66c40f7e",
       "version_major": 2,
       "version_minor": 0
      },
      "image/png": "[encoded data removed]",
      "text/html": [
       "\n",
       "            <div style=\"display: inline-block;\">\n",
       "                <div class=\"jupyter-widgets widget-label\" style=\"text-align: center;\">\n",
       "                    Figure\n",
       "                </div>\n",
       "                <img src='data:image/png;base64,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' width=800.0/>\n",
       "            </div>\n",
       "        "
      ],
      "text/plain": [
       "Canvas(toolbar=Toolbar(toolitems=[('Home', 'Reset original view', 'home', 'home'), ('Back', 'Back to previous …"
      ]
     },
     "metadata": {},
     "output_type": "display_data"
    }
   ],
   "source": [
    "plt.close(\"all\")\n",
    "plt_softmax(my_softmax)"
   ]
  },
  {
   "cell_type": "markdown",
   "id": "70b0fed9",
   "metadata": {},
   "source": [
    "As you are varying the values of the z's above, there are a few things to note:\n",
    "* the exponential in the numerator of the softmax magnifies small differences in the values \n",
    "* the output values sum to one\n",
    "* the softmax spans all of the outputs. A change in `z0` for example will change the values of `a0`-`a3`. Compare this to other activations such as ReLU or Sigmoid which have a single input and single output."
   ]
  },
  {
   "cell_type": "markdown",
   "id": "4b6bc0ba",
   "metadata": {},
   "source": [
    "## Cost\n",
    "<center> <img  src=\"./images/C2_W2_SoftMaxCost.png\" width=\"400\" />    <center/>"
   ]
  },
  {
   "cell_type": "markdown",
   "id": "5eb3d303",
   "metadata": {},
   "source": [
    "The loss function associated with Softmax, the cross-entropy loss, is:\n",
    "\\begin{equation}\n",
    "  L(\\mathbf{a},y)=\\begin{cases}\n",
    "    -log(a_1), & \\text{if $y=1$}.\\\\\n",
    "        &\\vdots\\\\\n",
    "     -log(a_N), & \\text{if $y=N$}\n",
    "  \\end{cases} \\tag{3}\n",
    "\\end{equation}\n",
    "\n",
    "Where y is the target category for this example and $\\mathbf{a}$ is the output of a softmax function. In particular, the values in $\\mathbf{a}$ are probabilities that sum to one.\n",
    ">**Recall:** In this course, Loss is for one example while Cost covers all examples. \n",
    " \n",
    " \n",
    "Note in (3) above, only the line that corresponds to the target contributes to the loss, other lines are zero. To write the cost equation we need an 'indicator function' that will be 1 when the index matches the target and zero otherwise. \n",
    "    $$\\mathbf{1}\\{y == n\\} = =\\begin{cases}\n",
    "    1, & \\text{if $y==n$}.\\\\\n",
    "    0, & \\text{otherwise}.\n",
    "  \\end{cases}$$\n",
    "Now the cost is:\n",
    "\\begin{align}\n",
    "J(\\mathbf{w},b) = -\\frac{1}{m} \\left[ \\sum_{i=1}^{m} \\sum_{j=1}^{N}  1\\left\\{y^{(i)} == j\\right\\} \\log \\frac{e^{z^{(i)}_j}}{\\sum_{k=1}^N e^{z^{(i)}_k} }\\right] \\tag{4}\n",
    "\\end{align}\n",
    "\n",
    "Where $m$ is the number of examples, $N$ is the number of outputs. This is the average of all the losses.\n"
   ]
  },
  {
   "cell_type": "code",
   "execution_count": 11,
   "id": "66530e5e",
   "metadata": {},
   "outputs": [],
   "source": [
    "# make  dataset for example\n",
    "centers = [[-5, 2], [-2, -2], [1, 2], [5, -2]]\n",
    "X_train, y_train = make_blobs(n_samples=2000, centers=centers, cluster_std=1.0,random_state=30)"
   ]
  },
  {
   "cell_type": "code",
   "execution_count": 12,
   "id": "2d25fb11",
   "metadata": {},
   "outputs": [
    {
     "name": "stdout",
     "output_type": "stream",
     "text": [
      "Epoch 1/10\n",
      "63/63 [==============================] - 7s 3ms/step - loss: 1.1876\n",
      "Epoch 2/10\n",
      "63/63 [==============================] - 0s 3ms/step - loss: 0.4947\n",
      "Epoch 3/10\n",
      "63/63 [==============================] - 0s 3ms/step - loss: 0.2034\n",
      "Epoch 4/10\n",
      "63/63 [==============================] - 0s 3ms/step - loss: 0.1151\n",
      "Epoch 5/10\n",
      "63/63 [==============================] - 0s 4ms/step - loss: 0.0825\n",
      "Epoch 6/10\n",
      "63/63 [==============================] - 0s 4ms/step - loss: 0.0672\n",
      "Epoch 7/10\n",
      "63/63 [==============================] - 0s 4ms/step - loss: 0.0582\n",
      "Epoch 8/10\n",
      "63/63 [==============================] - 0s 4ms/step - loss: 0.0524\n",
      "Epoch 9/10\n",
      "63/63 [==============================] - 0s 3ms/step - loss: 0.0481\n",
      "Epoch 10/10\n",
      "63/63 [==============================] - 0s 3ms/step - loss: 0.0450\n"
     ]
    },
    {
     "data": {
      "text/plain": [
       "<keras.callbacks.History at 0x2c803504ac0>"
      ]
     },
     "execution_count": 12,
     "metadata": {},
     "output_type": "execute_result"
    }
   ],
   "source": [
    "model = Sequential(\n",
    "    [ \n",
    "        Dense(25, activation = 'relu'),\n",
    "        Dense(15, activation = 'relu'),\n",
    "        Dense(4, activation = 'softmax')    # < softmax activation here\n",
    "    ]\n",
    ")\n",
    "model.compile(\n",
    "    loss=tf.keras.losses.SparseCategoricalCrossentropy(),\n",
    "    optimizer=tf.keras.optimizers.Adam(0.001),\n",
    ")\n",
    "\n",
    "model.fit(\n",
    "    X_train,y_train,\n",
    "    epochs=10\n",
    ")"
   ]
  },
  {
   "cell_type": "code",
   "execution_count": 13,
   "id": "4ea83bbd",
   "metadata": {},
   "outputs": [
    {
     "name": "stdout",
     "output_type": "stream",
     "text": [
      "63/63 [==============================] - 0s 2ms/step\n",
      "[[2.29e-03 4.50e-03 9.70e-01 2.30e-02]\n",
      " [9.91e-01 7.96e-03 7.65e-04 1.80e-04]]\n",
      "largest value 0.99999344 smallest value 2.656677e-10\n"
     ]
    }
   ],
   "source": [
    "p_nonpreferred = model.predict(X_train)\n",
    "print(p_nonpreferred [:2])\n",
    "print(\"largest value\", np.max(p_nonpreferred), \"smallest value\", np.min(p_nonpreferred))"
   ]
  },
  {
   "cell_type": "markdown",
   "id": "89d66380",
   "metadata": {},
   "source": [
    "### Preferred <img align=\"Right\" src=\"./images/C2_W2_softmax_accurate.png\"  style=\" width:400px; padding: 10px 20px ; \">\n",
    "Recall from lecture, more stable and accurate results can be obtained if the softmax and loss are combined during training.   This is enabled by the 'preferred' organization shown here.\n"
   ]
  },
  {
   "cell_type": "markdown",
   "id": "861bdabf",
   "metadata": {},
   "source": [
    "In the preferred organization the final layer has a linear activation. For historical reasons, the outputs in this form are referred to as *logits*. The loss function has an additional argument: `from_logits = True`. This informs the loss function that the softmax operation should be included in the loss calculation. This allows for an optimized implementation."
   ]
  },
  {
   "cell_type": "code",
   "execution_count": 14,
   "id": "8b105083",
   "metadata": {},
   "outputs": [
    {
     "name": "stdout",
     "output_type": "stream",
     "text": [
      "Epoch 1/10\n",
      "63/63 [==============================] - 1s 3ms/step - loss: 1.0978\n",
      "Epoch 2/10\n",
      "63/63 [==============================] - 0s 3ms/step - loss: 0.5005\n",
      "Epoch 3/10\n",
      "63/63 [==============================] - 0s 3ms/step - loss: 0.3000\n",
      "Epoch 4/10\n",
      "63/63 [==============================] - 0s 3ms/step - loss: 0.1759\n",
      "Epoch 5/10\n",
      "63/63 [==============================] - 0s 3ms/step - loss: 0.1085\n",
      "Epoch 6/10\n",
      "63/63 [==============================] - 0s 3ms/step - loss: 0.0798\n",
      "Epoch 7/10\n",
      "63/63 [==============================] - 0s 3ms/step - loss: 0.0653\n",
      "Epoch 8/10\n",
      "63/63 [==============================] - 0s 3ms/step - loss: 0.0571\n",
      "Epoch 9/10\n",
      "63/63 [==============================] - 0s 3ms/step - loss: 0.0511\n",
      "Epoch 10/10\n",
      "63/63 [==============================] - 0s 3ms/step - loss: 0.0468\n"
     ]
    },
    {
     "data": {
      "text/plain": [
       "<keras.callbacks.History at 0x2c803586040>"
      ]
     },
     "execution_count": 14,
     "metadata": {},
     "output_type": "execute_result"
    }
   ],
   "source": [
    "preferred_model = Sequential(\n",
    "    [ \n",
    "        Dense(25, activation = 'relu'),\n",
    "        Dense(15, activation = 'relu'),\n",
    "        Dense(4, activation = 'linear')   #<-- Note\n",
    "    ]\n",
    ")\n",
    "preferred_model.compile(\n",
    "    loss=tf.keras.losses.SparseCategoricalCrossentropy(from_logits=True),  #<-- Note\n",
    "    optimizer=tf.keras.optimizers.Adam(0.001),\n",
    ")\n",
    "\n",
    "preferred_model.fit(\n",
    "    X_train,y_train,\n",
    "    epochs=10\n",
    ")"
   ]
  },
  {
   "cell_type": "code",
   "execution_count": null,
   "id": "3597de32",
   "metadata": {},
   "outputs": [],
   "source": []
  }
 ],
 "metadata": {
  "kernelspec": {
   "display_name": "Python 3 (ipykernel)",
   "language": "python",
   "name": "python3"
  },
  "language_info": {
   "codemirror_mode": {
    "name": "ipython",
    "version": 3
   },
   "file_extension": ".py",
   "mimetype": "text/x-python",
   "name": "python",
   "nbconvert_exporter": "python",
   "pygments_lexer": "ipython3",
   "version": "3.9.7"
  }
 },
 "nbformat": 4,
 "nbformat_minor": 5
}

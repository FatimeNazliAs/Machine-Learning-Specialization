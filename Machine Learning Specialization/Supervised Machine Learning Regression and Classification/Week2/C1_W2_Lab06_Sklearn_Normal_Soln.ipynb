{
  "nbformat": 4,
  "nbformat_minor": 0,
  "metadata": {
    "colab": {
      "provenance": []
    },
    "kernelspec": {
      "name": "python3",
      "display_name": "Python 3"
    },
    "language_info": {
      "name": "python"
    }
  },
  "cells": [
    {
      "cell_type": "markdown",
      "source": [
        "# Optional Lab: Linear Regression using Scikit-Learn"
      ],
      "metadata": {
        "id": "Ny1Wh6RtmfJT"
      }
    },
    {
      "cell_type": "code",
      "source": [
        "import numpy as np\n",
        "import matplotlib.pyplot as plt\n",
        "from sklearn.linear_model import LinearRegression\n",
        "from lab_utils_multi import load_house_data\n",
        "plt.style.use('./deeplearning.mplstyle')\n",
        "np.set_printoptions(precision=2)"
      ],
      "metadata": {
        "id": "zKRAU_3amfm7"
      },
      "execution_count": null,
      "outputs": []
    },
    {
      "cell_type": "markdown",
      "source": [
        "<a name=\"toc_40291_2\"></a>\n",
        "# Linear Regression, closed-form solution\n",
        "Scikit-learn has the [linear regression model](https://scikit-learn.org/stable/modules/generated/sklearn.linear_model.LinearRegression.html#sklearn.linear_model.LinearRegression) which implements a closed-form linear regression.\n",
        "\n",
        "Let's use the data from the early labs - a house with 1000 square feet sold for \\\\$300,000 and a house with 2000 square feet sold for \\\\$500,000.\n",
        "\n",
        "| Size (1000 sqft)     | Price (1000s of dollars) |\n",
        "| ----------------| ------------------------ |\n",
        "| 1               | 300                      |\n",
        "| 2               | 500                      |\n"
      ],
      "metadata": {
        "id": "4jRYDbm0mnkZ"
      }
    },
    {
      "cell_type": "code",
      "source": [
        "X_train = np.array([1.0, 2.0])   #features\n",
        "y_train = np.array([300, 500])   #target value"
      ],
      "metadata": {
        "id": "pHqmCylXmoM0"
      },
      "execution_count": null,
      "outputs": []
    },
    {
      "cell_type": "code",
      "source": [
        "linear_model = LinearRegression()\n",
        "#X must be a 2-D Matrix\n",
        "linear_model.fit(X_train.reshape(-1, 1), y_train) "
      ],
      "metadata": {
        "colab": {
          "base_uri": "https://localhost:8080/"
        },
        "id": "WeBKNvkumim1",
        "outputId": "64935cfd-aa16-4b59-da2f-b2714705bdc5"
      },
      "execution_count": null,
      "outputs": [
        {
          "output_type": "execute_result",
          "data": {
            "text/plain": [
              "LinearRegression()"
            ]
          },
          "metadata": {},
          "execution_count": 3
        }
      ]
    },
    {
      "cell_type": "code",
      "source": [
        "b = linear_model.intercept_\n",
        "w = linear_model.coef_\n",
        "print(f\"w = {w:}, b = {b:0.2f}\")\n",
        "print(f\"'manual' prediction: f_wb = wx+b : {1200*w + b}\")"
      ],
      "metadata": {
        "colab": {
          "base_uri": "https://localhost:8080/"
        },
        "id": "XJZt_clzmv8c",
        "outputId": "1f8e795b-14fa-4819-d81a-73250c67ac7e"
      },
      "execution_count": null,
      "outputs": [
        {
          "output_type": "stream",
          "name": "stdout",
          "text": [
            "w = [200.], b = 100.00\n",
            "'manual' prediction: f_wb = wx+b : [240100.]\n"
          ]
        }
      ]
    },
    {
      "cell_type": "code",
      "source": [
        "y_pred = linear_model.predict(X_train.reshape(-1, 1))\n",
        "\n",
        "print(\"Prediction on training set:\", y_pred)\n",
        "\n",
        "X_test = np.array([[1200]])\n",
        "print(f\"Prediction for 1200 sqft house: ${linear_model.predict(X_test)[0]:0.2f}\")"
      ],
      "metadata": {
        "colab": {
          "base_uri": "https://localhost:8080/"
        },
        "id": "4ZH30NDTmxzc",
        "outputId": "25c6adb8-3368-4635-8f8a-dbf7560cbae5"
      },
      "execution_count": null,
      "outputs": [
        {
          "output_type": "stream",
          "name": "stdout",
          "text": [
            "Prediction on training set: [300. 500.]\n",
            "Prediction for 1200 sqft house: $240100.00\n"
          ]
        }
      ]
    },
    {
      "cell_type": "markdown",
      "source": [
        "## Second Example\n",
        "The second example is from an earlier lab with multiple features. The final parameter values and predictions are very close to the results from the un-normalized 'long-run' from that lab. That un-normalized run took hours to produce results, while this is nearly instantaneous. The closed-form solution work well on smaller data sets such as these but can be computationally demanding on larger data sets. \n",
        ">The closed-form solution does not require normalization."
      ],
      "metadata": {
        "id": "BP8AkUMlm-WJ"
      }
    },
    {
      "cell_type": "code",
      "source": [
        "# load the dataset\n",
        "X_train, y_train = load_house_data()\n",
        "X_features = ['size(sqft)','bedrooms','floors','age']\n",
        "\n",
        "linear_model = LinearRegression()\n",
        "linear_model.fit(X_train, y_train) \n",
        "\n",
        "b = linear_model.intercept_\n",
        "w = linear_model.coef_\n",
        "print(f\"w = {w:}, b = {b:0.2f}\")\n",
        "\n",
        "print(f\"Prediction on training set:\\n {linear_model.predict(X_train)[:4]}\" )\n",
        "print(f\"prediction using w,b:\\n {(X_train @ w + b)[:4]}\")\n",
        "print(f\"Target values \\n {y_train[:4]}\")\n",
        "\n",
        "x_house = np.array([1200, 3,1, 40]).reshape(-1,4)\n",
        "x_house_predict = linear_model.predict(x_house)[0]\n",
        "print(f\" predicted price of a house with 1200 sqft, 3 bedrooms, 1 floor, 40 years old = ${x_house_predict*1000:0.2f}\")"
      ],
      "metadata": {
        "colab": {
          "base_uri": "https://localhost:8080/"
        },
        "id": "kxnLN95ym-w3",
        "outputId": "df5beaba-283d-4d31-d96c-a79cadb0ade9"
      },
      "execution_count": null,
      "outputs": [
        {
          "output_type": "stream",
          "name": "stdout",
          "text": [
            "w = [  0.27 -32.62 -67.25  -1.47], b = 220.42\n",
            "Prediction on training set:\n",
            " [295.18 485.98 389.52 492.15]\n",
            "prediction using w,b:\n",
            " [295.18 485.98 389.52 492.15]\n",
            "Target values \n",
            " [300.  509.8 394.  540. ]\n",
            " predicted price of a house with 1200 sqft, 3 bedrooms, 1 floor, 40 years old = $318709.09\n"
          ]
        }
      ]
    }
  ]
}